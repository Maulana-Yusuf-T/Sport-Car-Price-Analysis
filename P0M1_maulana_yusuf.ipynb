{
 "cells": [
  {
   "cell_type": "markdown",
   "metadata": {},
   "source": [
    "# **I. Introduction**"
   ]
  },
  {
   "cell_type": "markdown",
   "metadata": {},
   "source": [
    "<p>=================================================<br>\n",
    "\n",
    "**Milestone 1**\n",
    "\n",
    "**Nama**  : Maulana Yusuf Taufiqurrahmahman<br>\n",
    "**Batch** : HCK-26<br>\n",
    "\n",
    "The purpose of this Milestone is about analyzing the factors of sports car prices to create a better decisions while buying the sports car.<p>\n",
    "=================================================</p>"
   ]
  },
  {
   "cell_type": "markdown",
   "metadata": {},
   "source": [
    "**Link Dashboard Tableau:**<br>\n",
    "https://public.tableau.com/app/profile/maulana.yusuf4588/viz/M1_maulana_yusuf/Dashboard1?publish=yes"
   ]
  },
  {
   "cell_type": "markdown",
   "metadata": {},
   "source": [
    "Hi there! My name is Maulana, a ``Data Analyst`` in the sports car sector of automotive business. I have extensive knowledge of market trends, vehicle performance, and other variables that affect pricing and customer preferences. I also have experience and competence in data analysis, visualization, and data-driven decision making.<p>\n",
    "\n",
    "As a Data Analyst, I am responsible for:\n",
    "- Examining sports car pricing performance trends according to brand, performance, and acceleration.\n",
    "- Target market identification based on historical data, customer preferences, and purcahse trends\n",
    "- Presenting insights to stakeholders through interactive data visualizations such as Tableau and Python.<p>\n",
    "\n",
    "In this ocassion, I will provide an information about the price of sports car based on the manufacturer, model, year, and other deatures that related to in a dataset.<p>\n",
    "\n",
    "Undoubtedly, the corporation has granted authorization for this dataset to be analyzed and shared with users who require it as a precise example."
   ]
  },
  {
   "cell_type": "markdown",
   "metadata": {},
   "source": [
    "# **II. Identification of Problems**"
   ]
  },
  {
   "cell_type": "markdown",
   "metadata": {},
   "source": [
    "### **Background**\n",
    "Sport cars are a highly sought-after vehicle segment due to their elegant design, high performance, and exclusive status. The prices of used sports cars vary depending on various factors such as make, model, year of manufacture, and other features of the vehicle. This dataset provides information on sports car prices from various well-known brands, helping the analysis of used sports car market prices. By understanding price patterns and factors that affect their value, users can make better decisions while buying or selling sports cars.\n",
    "\n",
    "### **SMART method**\n",
    "**S**pecific: Analyzing the factors that influence the selling price of used sports cars\n",
    "\n",
    "**M**easurable: With a prediction accuracy improvement at least 10% based on statistical analysis and visual data exploration, achievement will be defined as discovering at least four important variables that significantly influence price fluctuation.\n",
    "\n",
    "**A**chievable: Conducting exploratory and predictive analysis using data science techniques. With sufficient data, a car prediction model can be created accurately.\n",
    "\n",
    "**R**elevant: This analysis provides valuable insights for used sports car buyers to see if the price is reasonable.\n",
    "\n",
    "**T**ime-Bound: This analysis is carried out within a certain period, which is six months to reflect the current market trends.\n",
    "\n",
    "### **Statement**\n",
    "Understanding the factors that influence the price of used sports cars using datasets from various well-known brands by exploring the relationship between variables such as car maker, car model, year of manufacture, and other features with an improvement prediction at least 10% based on statistical analysis and visualization exploration. It provides insights from buyers to see the reasonable price, including performing statistical and predictive analysis to help the automotive market more accurately in six months."
   ]
  },
  {
   "cell_type": "markdown",
   "metadata": {},
   "source": [
    "### **Audience**\n",
    "The audience from this dataset will be noticed by:<p>\n",
    "**Used sports car buyers:** help to get the best deals by assessing whether the price offered is reasonable based on the car's features.\n"
   ]
  },
  {
   "cell_type": "markdown",
   "metadata": {},
   "source": [
    "### **5W + 1H method**\n",
    "1. What?: Identifying the main factors influencing price fluctuations using statistical analysis and exploration data. ``(Histogram)``\n",
    "\n",
    "2. Who?: Used sports car buyers, to see the reasonable prices. ``(Bar Chart)``\n",
    "\n",
    "3. Where?: The exploration can be applied in online car markets, dealerships, and auction platforms to enhance pricing strategies. ``(Regression plot)``\n",
    "\n",
    "4. When?: Ideally updated quarterly to capture market trends and inflation effect on car prices. ``(Box Plot)``\n",
    "\n",
    "5. Why?: Examined by using statistical measures such as correlation analysis to quantify their impact on pricing. ``(Inferential Statistics)``\n",
    "\n",
    "6. How?: Using ``Descriptive Statistics`` to calculate the measurement of central tendency, such as mean price variations accross different car models and year groups.\n"
   ]
  },
  {
   "cell_type": "markdown",
   "metadata": {},
   "source": [
    "# **III. Data Loading**"
   ]
  },
  {
   "cell_type": "markdown",
   "metadata": {},
   "source": [
    "### **Importing the Packages**"
   ]
  },
  {
   "cell_type": "code",
   "execution_count": 1,
   "metadata": {},
   "outputs": [],
   "source": [
    "# Create a dataframe\n",
    "import pandas as pd\n",
    "import numpy as np\n",
    "\n",
    "# Visualization Tools\n",
    "import matplotlib.pyplot as plt\n",
    "import seaborn as sns\n",
    "\n",
    "# Statistics Tools\n",
    "from scipy import stats"
   ]
  },
  {
   "cell_type": "markdown",
   "metadata": {},
   "source": [
    "This section above explain about the packages that will be used in this Milestone, include: \n",
    "- **Pandas** & **Numpy** = for creating a dataframe such as for measurement of central tendency\n",
    "- **Matplotlib** & **Seaborn** = to create a visualization analysis\n",
    "- **Scipy** = to using statistical analysis"
   ]
  },
  {
   "cell_type": "markdown",
   "metadata": {},
   "source": [
    "### **Read the CSV file**"
   ]
  },
  {
   "cell_type": "code",
   "execution_count": 2,
   "metadata": {},
   "outputs": [],
   "source": [
    "# Load the dataset\n",
    "df = pd.read_csv('Sport_car_price.csv', delimiter=';')"
   ]
  },
  {
   "cell_type": "markdown",
   "metadata": {},
   "source": [
    "Generally, reading a CSV file only requires typing the 'file_name.csv' section. However, for this file there is a semicolon, where it have to use the delimiter semicolon."
   ]
  },
  {
   "cell_type": "code",
   "execution_count": 3,
   "metadata": {},
   "outputs": [
    {
     "name": "stdout",
     "output_type": "stream",
     "text": [
      "<class 'pandas.core.frame.DataFrame'>\n",
      "RangeIndex: 1007 entries, 0 to 1006\n",
      "Data columns (total 8 columns):\n",
      " #   Column                   Non-Null Count  Dtype \n",
      "---  ------                   --------------  ----- \n",
      " 0   Car Make                 1007 non-null   object\n",
      " 1   Car Model                1007 non-null   object\n",
      " 2   Year                     1007 non-null   int64 \n",
      " 3   Engine Size (L)          997 non-null    object\n",
      " 4   Horsepower               1007 non-null   object\n",
      " 5   Torque (lb-ft)           1004 non-null   object\n",
      " 6   0-60 MPH Time (seconds)  1007 non-null   object\n",
      " 7   Price (in USD)           1007 non-null   object\n",
      "dtypes: int64(1), object(7)\n",
      "memory usage: 63.1+ KB\n"
     ]
    }
   ],
   "source": [
    "# Show the information about the dataset\n",
    "df.info()"
   ]
  },
  {
   "cell_type": "markdown",
   "metadata": {},
   "source": [
    "Note: Before cleaning the data, the Non-Null Count of Engine Size (L) is 997 and Torque is 1004"
   ]
  },
  {
   "cell_type": "markdown",
   "metadata": {},
   "source": [
    "This section explain about the summary of the dataset of 'Sport car price'. There are some columns that need to convert in Dtype section,<br>\n",
    "which is Engine Size, Horsepower, Torque, Price, and 0-60 MPH Time (seconds) in the **Data Cleaning** section"
   ]
  },
  {
   "cell_type": "code",
   "execution_count": 4,
   "metadata": {},
   "outputs": [
    {
     "data": {
      "text/html": [
       "<div>\n",
       "<style scoped>\n",
       "    .dataframe tbody tr th:only-of-type {\n",
       "        vertical-align: middle;\n",
       "    }\n",
       "\n",
       "    .dataframe tbody tr th {\n",
       "        vertical-align: top;\n",
       "    }\n",
       "\n",
       "    .dataframe thead th {\n",
       "        text-align: right;\n",
       "    }\n",
       "</style>\n",
       "<table border=\"1\" class=\"dataframe\">\n",
       "  <thead>\n",
       "    <tr style=\"text-align: right;\">\n",
       "      <th></th>\n",
       "      <th>Car Make</th>\n",
       "      <th>Car Model</th>\n",
       "      <th>Year</th>\n",
       "      <th>Engine Size (L)</th>\n",
       "      <th>Horsepower</th>\n",
       "      <th>Torque (lb-ft)</th>\n",
       "      <th>0-60 MPH Time (seconds)</th>\n",
       "      <th>Price (in USD)</th>\n",
       "    </tr>\n",
       "  </thead>\n",
       "  <tbody>\n",
       "    <tr>\n",
       "      <th>0</th>\n",
       "      <td>Porsche</td>\n",
       "      <td>911</td>\n",
       "      <td>2022</td>\n",
       "      <td>3</td>\n",
       "      <td>379</td>\n",
       "      <td>331</td>\n",
       "      <td>4</td>\n",
       "      <td>101,2</td>\n",
       "    </tr>\n",
       "    <tr>\n",
       "      <th>1</th>\n",
       "      <td>Lamborghini</td>\n",
       "      <td>Huracan</td>\n",
       "      <td>2021</td>\n",
       "      <td>5.2</td>\n",
       "      <td>630</td>\n",
       "      <td>443</td>\n",
       "      <td>2.8</td>\n",
       "      <td>274,39</td>\n",
       "    </tr>\n",
       "    <tr>\n",
       "      <th>2</th>\n",
       "      <td>Ferrari</td>\n",
       "      <td>488 GTB</td>\n",
       "      <td>2022</td>\n",
       "      <td>3.9</td>\n",
       "      <td>661</td>\n",
       "      <td>561</td>\n",
       "      <td>3</td>\n",
       "      <td>333,75</td>\n",
       "    </tr>\n",
       "    <tr>\n",
       "      <th>3</th>\n",
       "      <td>Audi</td>\n",
       "      <td>R8</td>\n",
       "      <td>2022</td>\n",
       "      <td>5.2</td>\n",
       "      <td>562</td>\n",
       "      <td>406</td>\n",
       "      <td>3.2</td>\n",
       "      <td>142,7</td>\n",
       "    </tr>\n",
       "    <tr>\n",
       "      <th>4</th>\n",
       "      <td>McLaren</td>\n",
       "      <td>720S</td>\n",
       "      <td>2021</td>\n",
       "      <td>4</td>\n",
       "      <td>710</td>\n",
       "      <td>568</td>\n",
       "      <td>2.7</td>\n",
       "      <td>298</td>\n",
       "    </tr>\n",
       "  </tbody>\n",
       "</table>\n",
       "</div>"
      ],
      "text/plain": [
       "      Car Make Car Model  Year Engine Size (L) Horsepower Torque (lb-ft)  \\\n",
       "0      Porsche       911  2022               3        379            331   \n",
       "1  Lamborghini   Huracan  2021             5.2        630            443   \n",
       "2      Ferrari   488 GTB  2022             3.9        661            561   \n",
       "3         Audi        R8  2022             5.2        562            406   \n",
       "4      McLaren      720S  2021               4        710            568   \n",
       "\n",
       "  0-60 MPH Time (seconds) Price (in USD)  \n",
       "0                       4          101,2  \n",
       "1                     2.8         274,39  \n",
       "2                       3         333,75  \n",
       "3                     3.2          142,7  \n",
       "4                     2.7            298  "
      ]
     },
     "execution_count": 4,
     "metadata": {},
     "output_type": "execute_result"
    }
   ],
   "source": [
    "# Show 5 rows from top from dataset\n",
    "df.head()"
   ]
  },
  {
   "cell_type": "markdown",
   "metadata": {},
   "source": [
    "This section shows about to read the raw file and displaying 5 rows data from top using .head()"
   ]
  },
  {
   "cell_type": "markdown",
   "metadata": {},
   "source": [
    "# **IV. Data Cleaning**"
   ]
  },
  {
   "cell_type": "markdown",
   "metadata": {},
   "source": [
    "### **Check the missing values**"
   ]
  },
  {
   "cell_type": "code",
   "execution_count": 5,
   "metadata": {},
   "outputs": [
    {
     "data": {
      "text/plain": [
       "Car Make                    0\n",
       "Car Model                   0\n",
       "Year                        0\n",
       "Engine Size (L)            10\n",
       "Horsepower                  0\n",
       "Torque (lb-ft)              3\n",
       "0-60 MPH Time (seconds)     0\n",
       "Price (in USD)              0\n",
       "dtype: int64"
      ]
     },
     "execution_count": 5,
     "metadata": {},
     "output_type": "execute_result"
    }
   ],
   "source": [
    "# Checking the missing values (Before)\n",
    "df.isnull().sum()"
   ]
  },
  {
   "cell_type": "markdown",
   "metadata": {},
   "source": [
    "From this section, there are two columns with the missing values in the Engine Size (L) and Torque. Therefore, we need to handle it by using **.fillna(0)**"
   ]
  },
  {
   "cell_type": "code",
   "execution_count": 6,
   "metadata": {},
   "outputs": [
    {
     "name": "stdout",
     "output_type": "stream",
     "text": [
      "Unique Category: ['Porsche' 'Lamborghini' 'Ferrari' 'Audi' 'McLaren' 'BMW' 'Mercedes-Benz'\n",
      " 'Chevrolet' 'Ford' 'Nissan' 'Aston Martin' 'Bugatti' 'Dodge' 'Jaguar'\n",
      " 'Koenigsegg' 'Lexus' 'Lotus' 'Maserati' 'Alfa Romeo' 'Ariel' 'Bentley'\n",
      " 'Mercedes-AMG' 'Pagani' 'Polestar' 'Rimac' 'Acura' 'Mazda' 'Rolls-Royce'\n",
      " 'Tesla' 'Toyota' 'W Motors' 'Shelby' 'TVR' 'Subaru' 'Pininfarina' 'Kia'\n",
      " 'Alpine' 'Ultima']\n",
      "Unique Category: ['911' 'Huracan' '488 GTB' 'R8' '720S' 'M8' 'AMG GT' 'Corvette'\n",
      " 'Mustang Shelby GT500' 'GT-R Nismo' 'DB11' 'Chiron'\n",
      " 'Challenger SRT Hellcat' 'F-Type' 'Jesko' 'LC 500' 'Evora GT'\n",
      " 'GranTurismo' 'Boxster' 'Giulia Quadrifoglio' 'Atom' 'Continental GT'\n",
      " 'Artura' 'SLS AMG' 'Huayra' '1' 'Nevera' 'Cayman GT4' 'Aventador SVJ'\n",
      " 'SF90 Stradale' 'RS7' 'M4' 'Camaro ZL1' 'GT' '370Z Nismo' 'Taycan 4S'\n",
      " 'Urus' 'Roma' 'RS3' 'i8' 'CLS63 AMG' 'Cayman' '570S' 'AMG C63'\n",
      " 'Camaro SS' 'Mustang GT' 'Vantage' 'Panamera' 'S5' '600LT' 'M5' 'RS5'\n",
      " 'M2' 'Challenger SRT Hellcat Redeye' 'Aventador' 'C63 AMG' '370Z' 'TT RS'\n",
      " 'Corvette Stingray' 'F8 Tributo' 'Mustang Mach 1' '718 Cayman' 'NSX'\n",
      " 'MX-5 Miata' '718 Cayman GT4' 'Wraith' 'Roadster' 'Supra'\n",
      " 'Fenyr Supersport' 'SL 63 AMG' 'DBS Superleggera'\n",
      " 'Panamera Turbo S E-Hybrid' 'Portofino' 'Panamera Turbo S' 'Z4 M40i'\n",
      " 'RS 3' 'M2 CS' 'Viper' 'C_Two' 'Cobra' 'Model S Plaid' 'GR Supra'\n",
      " 'Griffith' 'Lykan Hypersport' 'RS 6' 'Taycan' 'AMG C 63' 'RS 6 Avant'\n",
      " 'C 63 S Coupe' 'RS 7' 'Aventador S' 'M2 Competition' 'S63 AMG'\n",
      " 'Taycan Turbo S' '812 Superfast' 'R8 Spyder' 'AMG GT R' 'F-Type R' '4C'\n",
      " 'Charger SRT Hellcat' 'WRX STI' 'Panamera Turbo' 'RS 5 Coupe'\n",
      " 'SLS AMG Black Series' 'Huayra Roadster BC' 'Battista' 'Stinger'\n",
      " 'Model S' '765LT' 'Challenger Hellcat Redeye' 'Evora'\n",
      " 'Challenger Hellcat' 'LC' 'Huayra BC' 'A110' 'C 63 S' 'RS 5' 'Viper ACR'\n",
      " 'RS7 Sportback' 'M4 Competition' 'Charger Hellcat' 'Jesko Absolut'\n",
      " 'Evija' 'AMG GT Black Series' '600LT Spider' 'Camaro SS 1LE' 'Speedtail'\n",
      " 'Sián' 'SLC 43' '718 Boxster' 'F8 Spider' '4C Spider' 'RS5 Coupe'\n",
      " 'C63 S Coupe' 'TT RS Coupe' 'M4 Coupe' 'RS' 'Fenyr SuperSport'\n",
      " 'Chiron Super Sport 300+' 'Senna' 'RS 7 Sportback' 'AMG C 63 S'\n",
      " 'Corvette Z06' 'AMG GT 63 S' 'Portofino M' 'SL' 'Camaro' 'Dawn'\n",
      " 'Chiron Pur Sport' 'GT Black Series' '400Z' 'RS6' 'GT 63' '918 Spyder'\n",
      " 'Continental GT Speed' 'Challenger' '911 Turbo S' 'M5 Competition'\n",
      " 'RS6 Avant' 'Z4 Roadster' 'Camaro SS Convertible' '370Z Coupe' 'GT 63 S'\n",
      " '570S Spider' 'C 63 AMG' 'Challenger R/T' 'C63 S AMG' 'AMG C43 Coupe'\n",
      " 'AMG A45' 'Ghost' 'Charger' 'Panamera GTS' 'AMG GT 4-Door Coupe' 'C63 S'\n",
      " 'MC20' 'Mustang']\n",
      "Unique Category: [2022 2021 2015 2020 2019 2017 1965 2014 2023]\n",
      "Unique Category: ['379' '630' '661' '562' '710' '617' '523' '490' '760' '600' '1500' '717'\n",
      " '296' '1280' '471' '416' '454' '300' '505' '320' '626' '671' '622' '720'\n",
      " '1914' '414' '759' '986' '591' '503' '650' '660' '350' '641' '611' '394'\n",
      " '612' '369' '603' '455' '460' '325' '349' '592' '444' '405' '797' '770'\n",
      " '332' '473' '480' '573' '380' '1600' '181' '620' '764' '624' '1000+'\n",
      " '382' '800' '715' '690' '730' '469' '365' '401' '645' '435' '1020' '500'\n",
      " '780' '750' '402' '575' '729' '789' '577' '495' '237' '310' '791' '1874'\n",
      " '542' '368' '616' '1479' '755' '1,000+' '288' '1888' '10000+' '482'\n",
      " '1973' '1262' '1035' '819' '385' '647' '1200' '1578' '625' '583' '429'\n",
      " '563' '400' '707' '887' '1972' '305' '640' '255' '689' '372' '1000'\n",
      " '2000' '550' '10' '1,5' '10,000+' '485' '1,02' '1872' '621']\n",
      "Unique Category: ['4' '2.8' '3' '3.2' '2.7' '3.1' '3.8' '3.5' '2.5' '2.4' '5.4' '4.4' '4.8'\n",
      " '4.7' '3.6' '4.1' '1.85' '4.5' '3.3' '3.9' '4.2' '3.4' '5.1' '4.3' '2.9'\n",
      " '5' '5.3' '4.9' '6.5' '3.7' '1.95' '1.9' '1.98' '2.6' '2.3' '4.6' '< 1.9'\n",
      " '1.8' '2.1' '5.2' '2.2' '6.4' '2']\n",
      "Unique Category: ['101,2' '274,39' '333,75' '142,7' '298' '130' '118,5' '59,9' '81' '212'\n",
      " '201,495' '3,000,000' '61' '70,1' '2,800,000' '92,95' '104,45' '150' '62'\n",
      " '78' '75' '225' '248' '155' '2,400,000' '100,2' '517,77' '625' '117'\n",
      " '72,8' '222' '64,695' '500' '45,69' '104' '218' '57' '210' '148,5' '132'\n",
      " '58,9' '518' '56,2' '192,5' '71,8' '68' '42,5' '39' '46,1' '142,1' '105'\n",
      " '87,2' '52,5' '241' '103,5' '146' '75,4' '42,9' '78,595' '62,75'\n",
      " '417,826' '150,98' '30,09' '88,7' '67,6' '274,28' '52,915' '218,009'\n",
      " '159,495' '142,086' '219,8' '74,29' '71,9' '134,3' '26,83' '213,195'\n",
      " '221,58' '100,55' '330' '200' '43,09' '1,700,000' '60,5' '522' '67'\n",
      " '212,5' '64' '31,015' '304,995' '190' '115' '59' '102,1' '220,3' '114'\n",
      " '239,1' '62,5' '65,29' '219,75' '187,7' '222,004' '71,35' '68,9' '276,55'\n",
      " '63,7' '44' '51,72' '45,79' '88,55' '222,62' '84,595' '77,5' '157,5'\n",
      " '204,1' '120' '69,9' '105,95' '204,55' '2,700,000' '102,9' '1,000,000'\n",
      " '131,19' '123,5' '3,400,000' '61,5' '507' '109' '228' '42' '45' '185'\n",
      " '56' '191' '81,25' '517,7' '242,5' '77' '76' '103,2' '177,7' '417,65'\n",
      " '115,045' '256,5' '59,895' '152,5' '69,995' '363,73' '183,3' '73,795'\n",
      " '183' '60,995' '207' '203,825' '99,8' '67,15' '77,25' '71,49' '150,4'\n",
      " '47,82' '38,17' '102' '393,695' '218,75' '40,59' '52,72' '174,3' '67,895'\n",
      " '62,29' '93,05' '75,1' '64,195' '211' '275' '2,998,000' '573,966'\n",
      " '3,500,000' '2,500,000' '70' '61,6' '52,2' '100,45' '102,55' '76,4' '69'\n",
      " '247,5' '79,9' '119' '307,82' '207,825' '202,5' '63' '96,95' '358' '30'\n",
      " '2,600,000' '180' '131,1' '82,19' '76,95' '132,795' '215,5' '80,9' '40'\n",
      " '209' '67,5' '104,2' '133,05' '196,35' '338' '218,4' '73' '104,97'\n",
      " '132,4' '71,5' '118,795' '240' '221,4' '64,1' '81,55' '62,25' '92'\n",
      " '141,19' '64,995' '126,19' '205' '75,695' '2,750,000' '326,05' '102,5'\n",
      " '44,5' '51' '2,300,000' '3,600,000' '215' '36,12' '220' '280' '208,8'\n",
      " '229' '46,2' '71' '308' '80,5' '105,9' '180,8' '94' '70,9' '76,45'\n",
      " '198,95' '77,95' '314,5' '214,425' '104,4' '335,55' '141,99' '1,550,000'\n",
      " '65' '63,1' '140' '325' '80,19' '68,745' '139,99' '5,200,000' '1,500,000'\n",
      " '460,247' '110,045' '77,4' '46,815' '85' '162,9' '245' '74,75' '70,595'\n",
      " '203,5' '47,19' '222,63' '208' '96,25' '25' '103,8' '48' '93' '346,3'\n",
      " '3,599,000' '1,050,000' '186,35' '205,6' '201' '340' '101' '43' '305'\n",
      " '204,995' '243,6' '113' '161,2' '310' '1,800,000' '517' '110' '300' '100'\n",
      " '135' '62,195' '28' '147,5' '250' '67,8' '211,3' '222,5' '43,995'\n",
      " '152,995' '235' '335' '50' '49' '98,395' '168' '64,5' '46' '147' '193'\n",
      " '162' '76,7' '35' '151' '83,25' '74,7' '77,6' '181,1' '329,1' '46,61'\n",
      " '74' '63,995' '2,900,000' '201,5' '332,5' '198,995' '72' '254,995'\n",
      " '60,695' '64,7' '99,99' '150,8' '88,8' '76,35' '202' '96' '33' '75,25'\n",
      " '99' '149,995' '37,5' '38,5' '71,45' '134,15' '171,2' '321' '100,5' '195'\n",
      " '78,1' '78,45' '3,900,000' '2,000,000' '254,5' '27,205']\n"
     ]
    }
   ],
   "source": [
    "# Check the non-missing values columns\n",
    "\n",
    "# Car make\n",
    "car_make_check = df['Car Make'].unique()\n",
    "# Car Model\n",
    "car_model_check = df['Car Model'].unique()\n",
    "# Year\n",
    "year_check = df['Year'].unique()\n",
    "# Horsepower\n",
    "horsepower_check = df['Horsepower'].unique()\n",
    "# 0-60 MPH (in seconds)\n",
    "speed_check = df['0-60 MPH Time (seconds)'].unique()\n",
    "# Price in USD\n",
    "price_check = df['Price (in USD)'].unique()\n",
    "\n",
    "# Show the output\n",
    "print(f'Unique Category: {car_make_check}')\n",
    "print(f'Unique Category: {car_model_check}')\n",
    "print(f'Unique Category: {year_check}')\n",
    "print(f'Unique Category: {horsepower_check}')\n",
    "print(f'Unique Category: {speed_check}')\n",
    "print(f'Unique Category: {price_check}')"
   ]
  },
  {
   "cell_type": "markdown",
   "metadata": {},
   "source": [
    "According to the result, we can see that there are the values of each columns, including NaN, '-', 0, and more. Those data are **not** clean. We need to clean them by several steps."
   ]
  },
  {
   "cell_type": "code",
   "execution_count": 7,
   "metadata": {},
   "outputs": [],
   "source": [
    "# Filling 'N/A' into 0\n",
    "df = df.replace('N/A', np.nan).fillna(0)"
   ]
  },
  {
   "cell_type": "markdown",
   "metadata": {},
   "source": [
    "This method is used to change or filled the \"N/A\" word into 0, to make the values are filled. To make sure, check the information using **.isnull().sum()**, not .info()."
   ]
  },
  {
   "cell_type": "code",
   "execution_count": 8,
   "metadata": {},
   "outputs": [
    {
     "data": {
      "text/plain": [
       "Car Make                   0\n",
       "Car Model                  0\n",
       "Year                       0\n",
       "Engine Size (L)            0\n",
       "Horsepower                 0\n",
       "Torque (lb-ft)             0\n",
       "0-60 MPH Time (seconds)    0\n",
       "Price (in USD)             0\n",
       "dtype: int64"
      ]
     },
     "execution_count": 8,
     "metadata": {},
     "output_type": "execute_result"
    }
   ],
   "source": [
    "# Check the latest info about missing values (After)\n",
    "df.isnull().sum()"
   ]
  },
  {
   "cell_type": "markdown",
   "metadata": {},
   "source": [
    "This section shows about after filling the missing values into 0. As we can see, the values are filled."
   ]
  },
  {
   "cell_type": "code",
   "execution_count": 9,
   "metadata": {},
   "outputs": [
    {
     "data": {
      "text/plain": [
       "Index(['Car Make', 'Car Model', 'Year', 'Engine Size (L)', 'Horsepower',\n",
       "       'Torque (lb-ft)', '0-60 MPH Time (seconds)', 'Price (in USD)'],\n",
       "      dtype='object')"
      ]
     },
     "execution_count": 9,
     "metadata": {},
     "output_type": "execute_result"
    }
   ],
   "source": [
    "# Show the columns\n",
    "df.columns"
   ]
  },
  {
   "cell_type": "markdown",
   "metadata": {},
   "source": [
    "This section displays about the columns in Sport car price dataset and there are no white spaces. To make it sure, use .info()"
   ]
  },
  {
   "cell_type": "code",
   "execution_count": 10,
   "metadata": {},
   "outputs": [
    {
     "name": "stdout",
     "output_type": "stream",
     "text": [
      "<class 'pandas.core.frame.DataFrame'>\n",
      "RangeIndex: 1007 entries, 0 to 1006\n",
      "Data columns (total 8 columns):\n",
      " #   Column                   Non-Null Count  Dtype \n",
      "---  ------                   --------------  ----- \n",
      " 0   Car Make                 1007 non-null   object\n",
      " 1   Car Model                1007 non-null   object\n",
      " 2   Year                     1007 non-null   int64 \n",
      " 3   Engine Size (L)          1007 non-null   object\n",
      " 4   Horsepower               1007 non-null   object\n",
      " 5   Torque (lb-ft)           1007 non-null   object\n",
      " 6   0-60 MPH Time (seconds)  1007 non-null   object\n",
      " 7   Price (in USD)           1007 non-null   object\n",
      "dtypes: int64(1), object(7)\n",
      "memory usage: 63.1+ KB\n"
     ]
    }
   ],
   "source": [
    "# Check the latest info\n",
    "df.info()"
   ]
  },
  {
   "cell_type": "markdown",
   "metadata": {},
   "source": [
    "This section explain about the latest info of Sport car price dataset. As we can see, the values are filled.<br>\n",
    "Next step is doing the coverting Dtype."
   ]
  },
  {
   "cell_type": "code",
   "execution_count": null,
   "metadata": {},
   "outputs": [
    {
     "name": "stdout",
     "output_type": "stream",
     "text": [
      "28.599801390268127\n"
     ]
    }
   ],
   "source": [
    "# Check the percentage of duplicates\n",
    "print((df.duplicated().sum() / len(df)) * 100)"
   ]
  },
  {
   "cell_type": "markdown",
   "metadata": {},
   "source": [
    "This section shows us about how many percentage of duplicates data. In this case, there are around 29% of duplicates. We need to drop them into the next step."
   ]
  },
  {
   "cell_type": "code",
   "execution_count": null,
   "metadata": {},
   "outputs": [
    {
     "name": "stdout",
     "output_type": "stream",
     "text": [
      "         Car Make Car Model  Year  Engine Size (L)  Horsepower  \\\n",
      "0         Porsche       911  2022              3.0         379   \n",
      "1     Lamborghini   Huracan  2021              5.2         630   \n",
      "2         Ferrari   488 GTB  2022              3.9         661   \n",
      "3            Audi        R8  2022              5.2         562   \n",
      "4         McLaren      720S  2021              4.0         710   \n",
      "...           ...       ...   ...              ...         ...   \n",
      "1002   Koenigsegg     Jesko  2022              5.0        1280   \n",
      "1003        Lotus     Evija  2021              0.0        1972   \n",
      "1004      McLaren     Senna  2021              4.0         789   \n",
      "1005       Pagani    Huayra  2021              6.0         764   \n",
      "1006        Rimac    Nevera  2021              0.0        1888   \n",
      "\n",
      "      Torque (lb-ft)  0-60 MPH Time (seconds)  Price (in USD)  \n",
      "0                331                     4.00            1012  \n",
      "1                443                     2.80           27439  \n",
      "2                561                     3.00           33375  \n",
      "3                406                     3.20            1427  \n",
      "4                568                     2.70             298  \n",
      "...              ...                      ...             ...  \n",
      "1002            1106                     2.50         3000000  \n",
      "1003            1254                     2.00         2000000  \n",
      "1004             590                     2.70         1000000  \n",
      "1005             738                     3.00         2600000  \n",
      "1006            1696                     1.85         2400000  \n",
      "\n",
      "[1007 rows x 8 columns]\n"
     ]
    },
    {
     "name": "stderr",
     "output_type": "stream",
     "text": [
      "C:\\Users\\omen\\AppData\\Local\\Temp\\ipykernel_34812\\2551156911.py:6: FutureWarning: A value is trying to be set on a copy of a DataFrame or Series through chained assignment using an inplace method.\n",
      "The behavior will change in pandas 3.0. This inplace method will never work because the intermediate object on which we are setting values always behaves as a copy.\n",
      "\n",
      "For example, when doing 'df[col].method(value, inplace=True)', try using 'df.method({col: value}, inplace=True)' or df[col] = df[col].method(value) instead, to perform the operation inplace on the original object.\n",
      "\n",
      "\n",
      "  df['Engine Size (L)'].fillna(0, inplace=True)\n",
      "C:\\Users\\omen\\AppData\\Local\\Temp\\ipykernel_34812\\2551156911.py:11: FutureWarning: A value is trying to be set on a copy of a DataFrame or Series through chained assignment using an inplace method.\n",
      "The behavior will change in pandas 3.0. This inplace method will never work because the intermediate object on which we are setting values always behaves as a copy.\n",
      "\n",
      "For example, when doing 'df[col].method(value, inplace=True)', try using 'df.method({col: value}, inplace=True)' or df[col] = df[col].method(value) instead, to perform the operation inplace on the original object.\n",
      "\n",
      "\n",
      "  df['Horsepower'].fillna(0, inplace=True)\n",
      "C:\\Users\\omen\\AppData\\Local\\Temp\\ipykernel_34812\\2551156911.py:16: FutureWarning: A value is trying to be set on a copy of a DataFrame or Series through chained assignment using an inplace method.\n",
      "The behavior will change in pandas 3.0. This inplace method will never work because the intermediate object on which we are setting values always behaves as a copy.\n",
      "\n",
      "For example, when doing 'df[col].method(value, inplace=True)', try using 'df.method({col: value}, inplace=True)' or df[col] = df[col].method(value) instead, to perform the operation inplace on the original object.\n",
      "\n",
      "\n",
      "  df['Torque (lb-ft)'].fillna(0, inplace=True)\n",
      "C:\\Users\\omen\\AppData\\Local\\Temp\\ipykernel_34812\\2551156911.py:21: FutureWarning: A value is trying to be set on a copy of a DataFrame or Series through chained assignment using an inplace method.\n",
      "The behavior will change in pandas 3.0. This inplace method will never work because the intermediate object on which we are setting values always behaves as a copy.\n",
      "\n",
      "For example, when doing 'df[col].method(value, inplace=True)', try using 'df.method({col: value}, inplace=True)' or df[col] = df[col].method(value) instead, to perform the operation inplace on the original object.\n",
      "\n",
      "\n",
      "  df['0-60 MPH Time (seconds)'].fillna(0, inplace=True)\n",
      "C:\\Users\\omen\\AppData\\Local\\Temp\\ipykernel_34812\\2551156911.py:26: FutureWarning: A value is trying to be set on a copy of a DataFrame or Series through chained assignment using an inplace method.\n",
      "The behavior will change in pandas 3.0. This inplace method will never work because the intermediate object on which we are setting values always behaves as a copy.\n",
      "\n",
      "For example, when doing 'df[col].method(value, inplace=True)', try using 'df.method({col: value}, inplace=True)' or df[col] = df[col].method(value) instead, to perform the operation inplace on the original object.\n",
      "\n",
      "\n",
      "  df['Price (in USD)'].fillna('0', inplace=True)\n"
     ]
    }
   ],
   "source": [
    "# Converting Dtype sections\n",
    "\n",
    "# Take the first number that appears in the text\n",
    "df['Engine Size (L)'] = df['Engine Size (L)'].astype(str).str.extract(r'(\\d+\\.\\d+|\\d+)')\n",
    "# Filling the NaN with 0\n",
    "df['Engine Size (L)'].fillna(0, inplace=True)\n",
    "\n",
    "# Remove comas and plus sign\n",
    "df['Horsepower'] = df['Horsepower'].astype(str).str.replace(',', '').str.replace('+', '')\n",
    "# Filling the Nan with 0\n",
    "df['Horsepower'].fillna(0, inplace=True)\n",
    "\n",
    "# Remove comas and plus sign\n",
    "df['Torque (lb-ft)'] = df['Torque (lb-ft)'].astype(str).str.replace('-', '0').str.replace(',', '').str.replace('+', '')\n",
    "# Filling the NaN with 0\n",
    "df['Torque (lb-ft)'].fillna(0, inplace=True)\n",
    "\n",
    "# Remove '<' sign\n",
    "df['0-60 MPH Time (seconds)'] = df['0-60 MPH Time (seconds)'].astype(str).str.replace('<', '')\n",
    "# Filling the Nan with 0\n",
    "df['0-60 MPH Time (seconds)'].fillna(0, inplace=True)\n",
    "\n",
    "# Handling thousands and decimal points\n",
    "df['Price (in USD)'] = df['Price (in USD)'].astype(str).str.replace(',','')\n",
    "# Filling the NaN with 0\n",
    "df['Price (in USD)'].fillna('0', inplace=True)\n",
    "\n",
    "# Converting to numeric types\n",
    "df['Engine Size (L)'] = df['Engine Size (L)'].astype(float)\n",
    "df['Horsepower'] = df['Horsepower'].astype(int)\n",
    "df['Torque (lb-ft)'] = df['Torque (lb-ft)'].astype(int)\n",
    "df['0-60 MPH Time (seconds)'] = df['0-60 MPH Time (seconds)'].astype(float)\n",
    "df['Price (in USD)'] = df['Price (in USD)'].astype(int)\n",
    "\n",
    "# Show the output\n",
    "print(df)"
   ]
  },
  {
   "cell_type": "markdown",
   "metadata": {},
   "source": [
    "Converting and replacing is the most challenging part in this section because we need to replace many signs such as, ',', '+', '-', and many more. Not only that, we need to do also converting the datatype into int and float for some columns.<p>\n",
    "After that, we need to check the information to see if it is converted."
   ]
  },
  {
   "cell_type": "code",
   "execution_count": 13,
   "metadata": {},
   "outputs": [
    {
     "name": "stdout",
     "output_type": "stream",
     "text": [
      "<class 'pandas.core.frame.DataFrame'>\n",
      "RangeIndex: 1007 entries, 0 to 1006\n",
      "Data columns (total 8 columns):\n",
      " #   Column                   Non-Null Count  Dtype  \n",
      "---  ------                   --------------  -----  \n",
      " 0   Car Make                 1007 non-null   object \n",
      " 1   Car Model                1007 non-null   object \n",
      " 2   Year                     1007 non-null   int64  \n",
      " 3   Engine Size (L)          1007 non-null   float64\n",
      " 4   Horsepower               1007 non-null   int32  \n",
      " 5   Torque (lb-ft)           1007 non-null   int32  \n",
      " 6   0-60 MPH Time (seconds)  1007 non-null   float64\n",
      " 7   Price (in USD)           1007 non-null   int32  \n",
      "dtypes: float64(2), int32(3), int64(1), object(2)\n",
      "memory usage: 51.3+ KB\n"
     ]
    }
   ],
   "source": [
    "# Make sure already converted\n",
    "df.info()"
   ]
  },
  {
   "cell_type": "markdown",
   "metadata": {},
   "source": [
    "As we can see from above, the dtype is already converted such as 'Engine Size (L)' and '0-60 MPH Time (seconds)' column into float.<br>\n",
    "But remember, there is still duplicates data that we need to drop."
   ]
  },
  {
   "cell_type": "code",
   "execution_count": 14,
   "metadata": {},
   "outputs": [
    {
     "name": "stdout",
     "output_type": "stream",
     "text": [
      "Amount of duplicate: 293\n"
     ]
    }
   ],
   "source": [
    "# Check the duplicate\n",
    "duplicate_num = df.duplicated().sum()\n",
    "\n",
    "# Show the duplicate value\n",
    "print(f'Amount of duplicate: {duplicate_num}')"
   ]
  },
  {
   "cell_type": "markdown",
   "metadata": {},
   "source": [
    "Checking the duplicates data is important, because duplicates cannot be analyzed. We need to drop it."
   ]
  },
  {
   "cell_type": "code",
   "execution_count": 15,
   "metadata": {},
   "outputs": [],
   "source": [
    "# Drop the duplicates\n",
    "df = df.drop_duplicates()"
   ]
  },
  {
   "cell_type": "code",
   "execution_count": 16,
   "metadata": {},
   "outputs": [
    {
     "name": "stdout",
     "output_type": "stream",
     "text": [
      "Amount of duplicate: 0\n"
     ]
    }
   ],
   "source": [
    "# Create drop duplicate variable\n",
    "drop_duplicate = df.duplicated().sum()\n",
    "\n",
    "# Show the duplicate value\n",
    "print(f'Amount of duplicate: {drop_duplicate}')"
   ]
  },
  {
   "cell_type": "markdown",
   "metadata": {},
   "source": [
    "After dropping duplicates value by using .drop_duplicates(), there are no more duplicates."
   ]
  },
  {
   "cell_type": "code",
   "execution_count": 17,
   "metadata": {},
   "outputs": [
    {
     "name": "stdout",
     "output_type": "stream",
     "text": [
      "<class 'pandas.core.frame.DataFrame'>\n",
      "Index: 714 entries, 0 to 1006\n",
      "Data columns (total 8 columns):\n",
      " #   Column                   Non-Null Count  Dtype  \n",
      "---  ------                   --------------  -----  \n",
      " 0   Car Make                 714 non-null    object \n",
      " 1   Car Model                714 non-null    object \n",
      " 2   Year                     714 non-null    int64  \n",
      " 3   Engine Size (L)          714 non-null    float64\n",
      " 4   Horsepower               714 non-null    int32  \n",
      " 5   Torque (lb-ft)           714 non-null    int32  \n",
      " 6   0-60 MPH Time (seconds)  714 non-null    float64\n",
      " 7   Price (in USD)           714 non-null    int32  \n",
      "dtypes: float64(2), int32(3), int64(1), object(2)\n",
      "memory usage: 41.8+ KB\n"
     ]
    }
   ],
   "source": [
    "# The latest entries of dataset\n",
    "df.info()"
   ]
  },
  {
   "cell_type": "markdown",
   "metadata": {},
   "source": [
    "Always check the latest information while cleaning the data. From this data, we got **714 data entries**, which was previously 1007 data entries."
   ]
  },
  {
   "cell_type": "code",
   "execution_count": 54,
   "metadata": {},
   "outputs": [],
   "source": [
    "# Download the cleaned file\n",
    "df.to_csv('Sport_car_price_cleaned.csv', index=False)"
   ]
  },
  {
   "cell_type": "markdown",
   "metadata": {},
   "source": [
    "After cleaning the dataset, we need to export the cleaned file into a csv to make a visualization in Tableau. It is important to do this because if we analyzing using the raw data, the result will be different with the visualization."
   ]
  },
  {
   "cell_type": "markdown",
   "metadata": {},
   "source": [
    "# **V. Data Analysis and Data Visualization**"
   ]
  },
  {
   "cell_type": "code",
   "execution_count": 18,
   "metadata": {},
   "outputs": [
    {
     "data": {
      "text/html": [
       "<div>\n",
       "<style scoped>\n",
       "    .dataframe tbody tr th:only-of-type {\n",
       "        vertical-align: middle;\n",
       "    }\n",
       "\n",
       "    .dataframe tbody tr th {\n",
       "        vertical-align: top;\n",
       "    }\n",
       "\n",
       "    .dataframe thead th {\n",
       "        text-align: right;\n",
       "    }\n",
       "</style>\n",
       "<table border=\"1\" class=\"dataframe\">\n",
       "  <thead>\n",
       "    <tr style=\"text-align: right;\">\n",
       "      <th></th>\n",
       "      <th>Car Make</th>\n",
       "      <th>Car Model</th>\n",
       "      <th>Year</th>\n",
       "      <th>Engine Size (L)</th>\n",
       "      <th>Horsepower</th>\n",
       "      <th>Torque (lb-ft)</th>\n",
       "      <th>0-60 MPH Time (seconds)</th>\n",
       "      <th>Price (in USD)</th>\n",
       "    </tr>\n",
       "  </thead>\n",
       "  <tbody>\n",
       "    <tr>\n",
       "      <th>0</th>\n",
       "      <td>Porsche</td>\n",
       "      <td>911</td>\n",
       "      <td>2022</td>\n",
       "      <td>3.0</td>\n",
       "      <td>379</td>\n",
       "      <td>331</td>\n",
       "      <td>4.00</td>\n",
       "      <td>1012</td>\n",
       "    </tr>\n",
       "    <tr>\n",
       "      <th>1</th>\n",
       "      <td>Lamborghini</td>\n",
       "      <td>Huracan</td>\n",
       "      <td>2021</td>\n",
       "      <td>5.2</td>\n",
       "      <td>630</td>\n",
       "      <td>443</td>\n",
       "      <td>2.80</td>\n",
       "      <td>27439</td>\n",
       "    </tr>\n",
       "    <tr>\n",
       "      <th>2</th>\n",
       "      <td>Ferrari</td>\n",
       "      <td>488 GTB</td>\n",
       "      <td>2022</td>\n",
       "      <td>3.9</td>\n",
       "      <td>661</td>\n",
       "      <td>561</td>\n",
       "      <td>3.00</td>\n",
       "      <td>33375</td>\n",
       "    </tr>\n",
       "    <tr>\n",
       "      <th>3</th>\n",
       "      <td>Audi</td>\n",
       "      <td>R8</td>\n",
       "      <td>2022</td>\n",
       "      <td>5.2</td>\n",
       "      <td>562</td>\n",
       "      <td>406</td>\n",
       "      <td>3.20</td>\n",
       "      <td>1427</td>\n",
       "    </tr>\n",
       "    <tr>\n",
       "      <th>4</th>\n",
       "      <td>McLaren</td>\n",
       "      <td>720S</td>\n",
       "      <td>2021</td>\n",
       "      <td>4.0</td>\n",
       "      <td>710</td>\n",
       "      <td>568</td>\n",
       "      <td>2.70</td>\n",
       "      <td>298</td>\n",
       "    </tr>\n",
       "    <tr>\n",
       "      <th>...</th>\n",
       "      <td>...</td>\n",
       "      <td>...</td>\n",
       "      <td>...</td>\n",
       "      <td>...</td>\n",
       "      <td>...</td>\n",
       "      <td>...</td>\n",
       "      <td>...</td>\n",
       "      <td>...</td>\n",
       "    </tr>\n",
       "    <tr>\n",
       "      <th>999</th>\n",
       "      <td>Nissan</td>\n",
       "      <td>370Z</td>\n",
       "      <td>2021</td>\n",
       "      <td>3.7</td>\n",
       "      <td>332</td>\n",
       "      <td>270</td>\n",
       "      <td>5.10</td>\n",
       "      <td>3009</td>\n",
       "    </tr>\n",
       "    <tr>\n",
       "      <th>1002</th>\n",
       "      <td>Koenigsegg</td>\n",
       "      <td>Jesko</td>\n",
       "      <td>2022</td>\n",
       "      <td>5.0</td>\n",
       "      <td>1280</td>\n",
       "      <td>1106</td>\n",
       "      <td>2.50</td>\n",
       "      <td>3000000</td>\n",
       "    </tr>\n",
       "    <tr>\n",
       "      <th>1003</th>\n",
       "      <td>Lotus</td>\n",
       "      <td>Evija</td>\n",
       "      <td>2021</td>\n",
       "      <td>0.0</td>\n",
       "      <td>1972</td>\n",
       "      <td>1254</td>\n",
       "      <td>2.00</td>\n",
       "      <td>2000000</td>\n",
       "    </tr>\n",
       "    <tr>\n",
       "      <th>1005</th>\n",
       "      <td>Pagani</td>\n",
       "      <td>Huayra</td>\n",
       "      <td>2021</td>\n",
       "      <td>6.0</td>\n",
       "      <td>764</td>\n",
       "      <td>738</td>\n",
       "      <td>3.00</td>\n",
       "      <td>2600000</td>\n",
       "    </tr>\n",
       "    <tr>\n",
       "      <th>1006</th>\n",
       "      <td>Rimac</td>\n",
       "      <td>Nevera</td>\n",
       "      <td>2021</td>\n",
       "      <td>0.0</td>\n",
       "      <td>1888</td>\n",
       "      <td>1696</td>\n",
       "      <td>1.85</td>\n",
       "      <td>2400000</td>\n",
       "    </tr>\n",
       "  </tbody>\n",
       "</table>\n",
       "<p>714 rows × 8 columns</p>\n",
       "</div>"
      ],
      "text/plain": [
       "         Car Make Car Model  Year  Engine Size (L)  Horsepower  \\\n",
       "0         Porsche       911  2022              3.0         379   \n",
       "1     Lamborghini   Huracan  2021              5.2         630   \n",
       "2         Ferrari   488 GTB  2022              3.9         661   \n",
       "3            Audi        R8  2022              5.2         562   \n",
       "4         McLaren      720S  2021              4.0         710   \n",
       "...           ...       ...   ...              ...         ...   \n",
       "999        Nissan      370Z  2021              3.7         332   \n",
       "1002   Koenigsegg     Jesko  2022              5.0        1280   \n",
       "1003        Lotus     Evija  2021              0.0        1972   \n",
       "1005       Pagani    Huayra  2021              6.0         764   \n",
       "1006        Rimac    Nevera  2021              0.0        1888   \n",
       "\n",
       "      Torque (lb-ft)  0-60 MPH Time (seconds)  Price (in USD)  \n",
       "0                331                     4.00            1012  \n",
       "1                443                     2.80           27439  \n",
       "2                561                     3.00           33375  \n",
       "3                406                     3.20            1427  \n",
       "4                568                     2.70             298  \n",
       "...              ...                      ...             ...  \n",
       "999              270                     5.10            3009  \n",
       "1002            1106                     2.50         3000000  \n",
       "1003            1254                     2.00         2000000  \n",
       "1005             738                     3.00         2600000  \n",
       "1006            1696                     1.85         2400000  \n",
       "\n",
       "[714 rows x 8 columns]"
      ]
     },
     "execution_count": 18,
     "metadata": {},
     "output_type": "execute_result"
    }
   ],
   "source": [
    "df"
   ]
  },
  {
   "cell_type": "markdown",
   "metadata": {},
   "source": [
    "This section explains about the Data Analysis and Data Visualization.<p>\n",
    "For **Data Analysis**, it consists of Statics Descriptive and Inferential.<p>\n",
    "For **Data Visualization**, it consists of Bar Chart, Histogram, and many more."
   ]
  },
  {
   "cell_type": "markdown",
   "metadata": {},
   "source": [
    "#### **1. Data Analysis**"
   ]
  },
  {
   "cell_type": "markdown",
   "metadata": {},
   "source": [
    "Data Analysis consists of: Statistics - Descriptive and Statics - Inferential<br>\n",
    "After that, we need to define two distrubutions: Discrete & Continuous.<p>\n",
    "**Continuous:**\n",
    "- Engine Size (L)\n",
    "- 0-60 MPH (seconds)\n",
    "- Price (in USD)\n",
    "\n",
    "**Discrete:**\n",
    "- Year\n",
    "- Horsepower\n",
    "- Torque (lb-ft)<br>"
   ]
  },
  {
   "cell_type": "markdown",
   "metadata": {},
   "source": [
    "#### **Statistics Descriptive**"
   ]
  },
  {
   "cell_type": "markdown",
   "metadata": {},
   "source": [
    "Descriptive Statics used to help to understanding the main characteristic of dataset, such as distribution car prices.<p>\n",
    "Furthermore, this method gives us numerical summaries, for example Mean, Median, Mode (Modus) and more.<br>\n",
    "Additionally, it visualizes us data with graphs, such as histogram, Bar Chart, Scatter Plot, and more."
   ]
  },
  {
   "cell_type": "code",
   "execution_count": 47,
   "metadata": {},
   "outputs": [
    {
     "data": {
      "text/html": [
       "<div>\n",
       "<style scoped>\n",
       "    .dataframe tbody tr th:only-of-type {\n",
       "        vertical-align: middle;\n",
       "    }\n",
       "\n",
       "    .dataframe tbody tr th {\n",
       "        vertical-align: top;\n",
       "    }\n",
       "\n",
       "    .dataframe thead th {\n",
       "        text-align: right;\n",
       "    }\n",
       "</style>\n",
       "<table border=\"1\" class=\"dataframe\">\n",
       "  <thead>\n",
       "    <tr style=\"text-align: right;\">\n",
       "      <th></th>\n",
       "      <th>Column</th>\n",
       "      <th>Mean</th>\n",
       "      <th>Median</th>\n",
       "      <th>Mode</th>\n",
       "    </tr>\n",
       "  </thead>\n",
       "  <tbody>\n",
       "    <tr>\n",
       "      <th>0</th>\n",
       "      <td>Price (in USD)</td>\n",
       "      <td>270510.460784</td>\n",
       "      <td>1032.0</td>\n",
       "      <td>3000000.0</td>\n",
       "    </tr>\n",
       "    <tr>\n",
       "      <th>1</th>\n",
       "      <td>Engine Size (L)</td>\n",
       "      <td>4.405322</td>\n",
       "      <td>4.0</td>\n",
       "      <td>4.0</td>\n",
       "    </tr>\n",
       "    <tr>\n",
       "      <th>2</th>\n",
       "      <td>Horsepower</td>\n",
       "      <td>633.408964</td>\n",
       "      <td>587.0</td>\n",
       "      <td>503.0</td>\n",
       "    </tr>\n",
       "    <tr>\n",
       "      <th>3</th>\n",
       "      <td>Torque (lb-ft)</td>\n",
       "      <td>563.529412</td>\n",
       "      <td>505.0</td>\n",
       "      <td>443.0</td>\n",
       "    </tr>\n",
       "  </tbody>\n",
       "</table>\n",
       "</div>"
      ],
      "text/plain": [
       "            Column           Mean  Median       Mode\n",
       "0   Price (in USD)  270510.460784  1032.0  3000000.0\n",
       "1  Engine Size (L)       4.405322     4.0        4.0\n",
       "2       Horsepower     633.408964   587.0      503.0\n",
       "3   Torque (lb-ft)     563.529412   505.0      443.0"
      ]
     },
     "execution_count": 47,
     "metadata": {},
     "output_type": "execute_result"
    }
   ],
   "source": [
    "# Measurement of Central Tendency\n",
    "\n",
    "# Price\n",
    "pr_mean = df['Price (in USD)'].mean()\n",
    "pr_med = df['Price (in USD)'].median()\n",
    "pr_mod = df['Price (in USD)'].mode().values[0]\n",
    "\n",
    "# Engine Size (L)\n",
    "es_mean = df['Engine Size (L)'].mean()\n",
    "es_med = df['Engine Size (L)'].median()\n",
    "es_mod = df['Engine Size (L)'].mode().values[0]\n",
    "\n",
    "# Horsepower\n",
    "hp_mean = df['Horsepower'].mean()\n",
    "hp_med = df['Horsepower'].median()\n",
    "hp_mod = df['Horsepower'].mode().values[0]\n",
    "\n",
    "# Torque (lb-ft)\n",
    "torq_mean = df['Torque (lb-ft)'].mean()\n",
    "torq_med = df['Torque (lb-ft)'].median()\n",
    "torq_mod = df['Torque (lb-ft)'].mode().values[0]\n",
    "\n",
    "# Create a table\n",
    "values = {\n",
    "    'Column': ['Price (in USD)', 'Engine Size (L)', 'Horsepower', 'Torque (lb-ft)'],\n",
    "    'Mean': [pr_mean, es_mean, hp_mean, torq_mean],\n",
    "    'Median': [pr_med, es_med, hp_med, torq_med],\n",
    "    'Mode': [pr_mod, es_mod, hp_mod, torq_mod]\n",
    "}\n",
    "\n",
    "# Create a dataframe\n",
    "data_values = pd.DataFrame(values)\n",
    "\n",
    "# Show the output\n",
    "data_values"
   ]
  },
  {
   "cell_type": "markdown",
   "metadata": {},
   "source": [
    "In Measurement of Central Tendency, there are many methods for calcuate it. But, in general, we just need to calculate the 3M: **Mean, Median, and Mode**.<br>\n",
    "From the result, as we can see that:\n",
    "- The mean of price is much more higher than median. This indicates there is presence of outliers (very high prices) that pull the average upwards.\n",
    "- Engine Size (L), Horsepower, and Torque show ``normal tendencies``, but there are some outliers"
   ]
  },
  {
   "cell_type": "markdown",
   "metadata": {},
   "source": [
    "#### **2. Data Visualization**"
   ]
  },
  {
   "cell_type": "markdown",
   "metadata": {},
   "source": [
    "Visualization:\n",
    "\n",
    "1. Bar Chart: Displays the average price per car brand to analyze brand influence on pricing.\n",
    "\n",
    "2. Box Plot: Illustrates price distribution across different car model years, highlighting variations over time.\n",
    "\n",
    "3. Scatter Plot: Examines the relationship between engine specifications (e.g., horsepower, displacement) and price to analyze performance impact.\n",
    "\n",
    "4. Pair Plot or Heatmap: Examines correlations between numerical variables such as price, engine size, and manufacturing year to identify strong relationships.\n",
    "\n",
    "Statistical Analysis:\n",
    "\n",
    "1. Descriptive Statistics: Mean, median, and standard deviation of prices, engine specifications, and other key features.\n",
    "\n",
    "2. Inferential Statistics: Hypothesis testing to determine significant factors influencing price variations"
   ]
  },
  {
   "cell_type": "markdown",
   "metadata": {},
   "source": [
    "#### **Create the visualization**"
   ]
  },
  {
   "cell_type": "code",
   "execution_count": 35,
   "metadata": {},
   "outputs": [
    {
     "data": {
      "image/png": "[encoded data removed]",
      "text/plain": [
       "<Figure size 1000x500 with 1 Axes>"
      ]
     },
     "metadata": {},
     "output_type": "display_data"
    }
   ],
   "source": [
    "# Plot histogram\n",
    "plt.figure(figsize=(10, 5))\n",
    "sns.histplot(df['Price (in USD)'], bins=30, color='blue', edgecolor='black')\n",
    "plt.title('Distribution Price of Sports Car')\n",
    "plt.xlabel('Price (USD)')\n",
    "plt.ylabel('Amount of cars')\n",
    "plt.grid(True)\n",
    "plt.show()"
   ]
  },
  {
   "cell_type": "markdown",
   "metadata": {},
   "source": [
    "Insights:\n",
    "- According to the histogram's positive skewness (right-skewed), the majority of sports car are reasonably priced, while a small number are extremely expensive. On the other hand, some sports car have extremely high pricing. This is a regular occurence in automobile price data.<p>\n",
    "- Additionally, the majority of prices are low, which have quite tall bars on the left side and reasonably priced. The distribution that is extended to the right shows that some cars are more expensive."
   ]
  },
  {
   "cell_type": "code",
   "execution_count": 21,
   "metadata": {},
   "outputs": [
    {
     "data": {
      "image/png": "[encoded data removed]",
      "text/plain": [
       "<Figure size 1000x500 with 1 Axes>"
      ]
     },
     "metadata": {},
     "output_type": "display_data"
    }
   ],
   "source": [
    "# Top 10 Car maker and Price\n",
    "top_10_makers = df['Car Make'].value_counts().index[:10]\n",
    "df_filtered = df[df['Car Make'].isin(top_10_makers)]\n",
    "\n",
    "plt.figure(figsize=(10, 5))\n",
    "sns.boxplot(x=df_filtered['Car Make'], y=df_filtered['Price (in USD)'])\n",
    "plt.xticks(rotation=90)\n",
    "plt.title('Distribution of Top 10 Car Maker and Price')\n",
    "plt.xlabel('Car maker')\n",
    "plt.ylabel('Price (in USD)')\n",
    "plt.show()"
   ]
  },
  {
   "cell_type": "markdown",
   "metadata": {},
   "source": [
    "Insights:\n",
    "- According from the top 10 of car maker (box plot), Lamborghini and Aston Martin have higher average prices than other brands on the list.<br>\n",
    "- Then, there are several brands that have an outlier, especially for Porsche, McLaren, and Lamborghini demonstrates that some models within the same brand are significantly more expensive than others."
   ]
  },
  {
   "cell_type": "code",
   "execution_count": 22,
   "metadata": {},
   "outputs": [
    {
     "data": {
      "image/png": "[encoded data removed]",
      "text/plain": [
       "<Figure size 1200x600 with 1 Axes>"
      ]
     },
     "metadata": {},
     "output_type": "display_data"
    }
   ],
   "source": [
    "# Average price (per brand)\n",
    "plt.figure(figsize=(12, 6))\n",
    "brand_avg_price = df.groupby('Car Make')['Price (in USD)'].mean().sort_values(ascending=False).head(10)\n",
    "brand_avg_price.plot(kind='bar', color='royalblue')\n",
    "plt.title('Average Price of Sports cars per brand')\n",
    "plt.xlabel('Car Make')\n",
    "plt.ylabel('Average Price (in USD)')\n",
    "plt.xticks(rotation=90)\n",
    "plt.show()"
   ]
  },
  {
   "cell_type": "markdown",
   "metadata": {},
   "source": [
    "Insights:\n",
    "- The most expensive car on average price is Bugatti, which typically cost more than $3.5 million. Its reputation as a producer of high-end hypercars like the Bugatti Chiron and Bugatti Divo is consistent with this.<p>\n",
    "- In the middle segments are Koenigsegg, Pagani, and Pininfarina have an average price of more than $2.5 million. They are quite costly due to their limited production and sophisticated technology.<p>\n",
    "- While the other brands with below than $2.5 million are still adored by many, mostly collectors."
   ]
  },
  {
   "cell_type": "markdown",
   "metadata": {},
   "source": [
    "From the insight, we can see that the Chiron Super Sport 300+ dominates of the top price list. Following the competitors, Sian until Huayra BC also compete with each others, where the difference are not too far."
   ]
  },
  {
   "cell_type": "code",
   "execution_count": 23,
   "metadata": {},
   "outputs": [
    {
     "data": {
      "image/png": "[encoded data removed]",
      "text/plain": [
       "<Figure size 1000x500 with 1 Axes>"
      ]
     },
     "metadata": {},
     "output_type": "display_data"
    }
   ],
   "source": [
    "# Horsepower and Engine Size (L)\n",
    "plt.figure(figsize=(10, 5))\n",
    "sns.scatterplot(x=df['Engine Size (L)'], y=df['Horsepower'])\n",
    "plt.title('Horsepower vs Engine Size (L)')\n",
    "plt.xlabel('Engine Size (L)')\n",
    "plt.ylabel('Horsepower')\n",
    "plt.show()"
   ]
  },
  {
   "cell_type": "markdown",
   "metadata": {},
   "source": [
    "Insights:\n",
    "- It seems that there is a non-linear or extremely variable relationship between engine size and horsepower.\n",
    "- There are many outliers to the general rule that larger engines provide more horsepower."
   ]
  },
  {
   "cell_type": "code",
   "execution_count": null,
   "metadata": {},
   "outputs": [
    {
     "data": {
      "image/png": "[encoded data removed]",
      "text/plain": [
       "<Figure size 1000x500 with 1 Axes>"
      ]
     },
     "metadata": {},
     "output_type": "display_data"
    }
   ],
   "source": [
    "# Horsepower and Price\n",
    "plt.figure(figsize=(10, 5))\n",
    "sns.regplot(x=df[\"Horsepower\"], y=df[\"Price (in USD)\"])\n",
    "plt.title(\"Relation between Horsepower and Price\")\n",
    "plt.xlabel(\"Horsepower\")\n",
    "plt.ylabel(\"Price (in USD)\")\n",
    "plt.show()"
   ]
  },
  {
   "cell_type": "markdown",
   "metadata": {},
   "source": [
    "Inisights:\n",
    "- Regression model in Price and Horsepower chart have a ``positive correlation``. It is evident from the upward regression line that cars with more horsepower typically cost more.\n",
    "- This model is to be expected because it is given that sports car typically have superior performance and more advanced in some features."
   ]
  },
  {
   "cell_type": "code",
   "execution_count": 37,
   "metadata": {},
   "outputs": [
    {
     "data": {
      "image/png": "[encoded data removed]",
      "text/plain": [
       "<Figure size 700x500 with 2 Axes>"
      ]
     },
     "metadata": {},
     "output_type": "display_data"
    }
   ],
   "source": [
    "# Heatmap of numerical features\n",
    "num_features = ['Engine Size (L)', 'Horsepower', 'Torque (lb-ft)', '0-60 MPH Time (seconds)', 'Price (in USD)']\n",
    "\n",
    "plt.figure(figsize=(7, 5))\n",
    "sns.heatmap(df[num_features].corr(), annot=True)\n",
    "plt.title('Correlation Heatmap')\n",
    "plt.show()"
   ]
  },
  {
   "cell_type": "markdown",
   "metadata": {},
   "source": [
    "Insights:\n",
    "- Horsepower and Price are positively correlated (0.48). Higher horsepower cars are typically more expensive. Nevertheless, the correlation is weak (0.48), indicating that pricing is influenced by additional factors.\n",
    "- Torque and Price are also correlated (0.33), which somehow is moderately positive. This make sense because vehicles with higher torque typically have better performance, which can result in higher prices."
   ]
  },
  {
   "cell_type": "markdown",
   "metadata": {},
   "source": [
    "### **Hypothesis:**<p>\n",
    "#### **1. Does a sports car brand have a relationship with prices?**"
   ]
  },
  {
   "cell_type": "markdown",
   "metadata": {},
   "source": [
    "The hypothesis from the question is below:<p>\n",
    "- H0: There is **no significant** difference between a sports car brand with the price of used sports cars.\n",
    "- H1: A sports car brand **have a significant** difference on the price of used sports cars."
   ]
  },
  {
   "cell_type": "markdown",
   "metadata": {},
   "source": [
    "To test it, using **Two Sample Independent Test** method is the best option because the data comes from Two Independent Groups."
   ]
  },
  {
   "cell_type": "code",
   "execution_count": 43,
   "metadata": {},
   "outputs": [
    {
     "name": "stdout",
     "output_type": "stream",
     "text": [
      "T-Statistic: 2.944604328066449\n",
      "P-value: 0.010659113249706602\n"
     ]
    }
   ],
   "source": [
    "# Filtering data based on car brands\n",
    "bugatti_prices = df['Price (in USD)'][df['Car Make'] == 'Bugatti']\n",
    "shelby_prices = df['Price (in USD)'][df['Car Make'] == 'Shelby']\n",
    "\n",
    "# Do the Two Sample Independent t-Test\n",
    "t_stat, p_value = stats.ttest_ind(bugatti_prices, shelby_prices)\n",
    "\n",
    "# Show the output\n",
    "print(f\"T-Statistic: {t_stat}\")\n",
    "print(f\"P-value: {p_value}\")"
   ]
  },
  {
   "cell_type": "markdown",
   "metadata": {},
   "source": [
    "As we can see from the result, **if p-value < 0.05**, H0 is **successed** rejected. It means that there is **significant** difference between a sports car brand with the price of used sports cars."
   ]
  },
  {
   "cell_type": "markdown",
   "metadata": {},
   "source": [
    "# **VI. Conclusion**"
   ]
  },
  {
   "cell_type": "markdown",
   "metadata": {},
   "source": [
    "``In general:``<p>\n",
    "For a researcher to reach this milestone, a dataset with at least three categorical and three numerical columns with the minimum 1000 - 2000 rows of data have to be explored. Following that, a description of the dataset's background and the methodology utilized is required.<p>\n",
    "The dataset that already explored and downloaded from Kaggle or other sources needs to be loaded, which involves reading the dataset to determine its cleanliness. In this case, it contains empty values (0) and NaN, the dataset in this instance is not clean. The challenging part is have to be double-checked.<p>\n",
    "Following data cleaning, the dataset must be analyzed using the proper statistical and visual aids. The dataset requires adequate relations, which makes analysis difficult.<p>\n",
    "\n",
    "``Sports car price analysis:``\n",
    "- In the measurement of central tendency, the distribution of price is highly skewed (tends to the right), with the median being significantly smaller than the mean, suggesting that premium cars have many outliers.\n",
    "- The **median** of Engine Size, Horsepower, and Torque is near to **mean**, which conclude that they have more stable distribution.\n",
    "- Regression between Horsepower and Price is **evident** because the higher performance of a car, the higher prices to get.\n",
    "- Based on **Two Sample Independent Test**, there is **significant** relationship between a car brand with the prices.<p>\n",
    "\n",
    "``Recommendations:``\n",
    "- For the next researcher, it is recommended to do more investigation using sophisticated **Machine Learning** model to make a precise forecasts.\n"
   ]
  },
  {
   "cell_type": "markdown",
   "metadata": {},
   "source": [
    "Notes:\n",
    "Heatmap is not been visualized in Tableau because the Two Sample Independent Test method is representative."
   ]
  }
 ],
 "metadata": {
  "kernelspec": {
   "display_name": "base",
   "language": "python",
   "name": "python3"
  },
  "language_info": {
   "codemirror_mode": {
    "name": "ipython",
    "version": 3
   },
   "file_extension": ".py",
   "mimetype": "text/x-python",
   "name": "python",
   "nbconvert_exporter": "python",
   "pygments_lexer": "ipython3",
   "version": "3.12.7"
  }
 },
 "nbformat": 4,
 "nbformat_minor": 2
}
